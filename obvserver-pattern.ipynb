{
 "cells": [
  {
   "cell_type": "markdown",
   "metadata": {},
   "source": [
    "# Observer Pattern\n",
    "\n",
    "观察者模式\n",
    "\n",
    "## Introduction\n",
    "\n",
    "观察者模式是一种行为型设计模式，它定义了一种一对多的依赖关系，当一个对象的状态发生改变时，其所有依赖者都会收到通知并自动更新。\n",
    "\n",
    "当对象间存在一对多关系时，则使用观察者模式（Observer Pattern）。比如，当一个对象被修改时，则会自动通知依赖它的对象。观察者模式属于行为型模式。\n",
    "\n",
    "```\n",
    "   A\n",
    " / | \\\n",
    "B  C  D\n",
    "```\n",
    "\n",
    "A 发生了改变时，B C D 也要根据 A 的变化 **自动** 更新\n",
    "\n",
    "关注重点：state"
   ]
  },
  {
   "cell_type": "code",
   "execution_count": 13,
   "metadata": {},
   "outputs": [],
   "source": [
    "from abc import ABCMeta, abstractmethod\n",
    "\n",
    "class Observer(metaclass=ABCMeta):\n",
    "    @abstractmethod\n",
    "    def update(self, observable, state):\n",
    "        pass\n",
    "\n",
    "class Observable:\n",
    "    \"\"\"维护一个列表存储所有的观察者\"\"\"\n",
    "    def __init__(self) -> None:\n",
    "        self._observer_list = []\n",
    "\n",
    "    \"\"\"添加\"\"\"\n",
    "    def add_observer(self, observer):\n",
    "        self._observer_list.append(observer)\n",
    "\n",
    "    \"\"\"删除\"\"\"\n",
    "    def remove_observer(self, observer):\n",
    "        if observer in self._observer_list:\n",
    "            self._observer_list.remove(observer)\n",
    "\n",
    "    \"\"\"通知（触发）\"\"\"\n",
    "    def notify(self, value):\n",
    "        for observer in self._observer_list:\n",
    "            observer.update(self, value)"
   ]
  },
  {
   "cell_type": "markdown",
   "metadata": {},
   "source": [
    "## Example\n",
    "\n",
    "简单的例子，比如热水器热水，到多少度可以饮用，到多少度可以洗澡的问题"
   ]
  },
  {
   "cell_type": "code",
   "execution_count": 14,
   "metadata": {},
   "outputs": [
    {
     "name": "stdout",
     "output_type": "stream",
     "text": [
      "初始水温：20.0 度\n",
      "当前水温：40.0 度\n",
      "才 40.0 度，水还没烧起来\n",
      "当前水温：60.0 度\n",
      "60.0 度了，可以洗澡了\n",
      "当前水温：100.0 度\n",
      "水开了，可以喝了\n"
     ]
    },
    {
     "ename": "ValueError",
     "evalue": "常压下烧不出 114.514 度的水，请找高压锅炉",
     "output_type": "error",
     "traceback": [
      "\u001b[0;31m---------------------------------------------------------------------------\u001b[0m",
      "\u001b[0;31mValueError\u001b[0m                                Traceback (most recent call last)",
      "\u001b[1;32m/home/jh-li/Quanmol/Design-Pattern-Notebook/obvserver-pattern.ipynb Cell 4\u001b[0m line \u001b[0;36m5\n\u001b[1;32m     <a href='vscode-notebook-cell://wsl%2Bubuntu/home/jh-li/Quanmol/Design-Pattern-Notebook/obvserver-pattern.ipynb#W3sdnNjb2RlLXJlbW90ZQ%3D%3D?line=46'>47</a>\u001b[0m test_water_heater(water_heater)\n\u001b[1;32m     <a href='vscode-notebook-cell://wsl%2Bubuntu/home/jh-li/Quanmol/Design-Pattern-Notebook/obvserver-pattern.ipynb#W3sdnNjb2RlLXJlbW90ZQ%3D%3D?line=48'>49</a>\u001b[0m \u001b[39m\"\"\"烧不了超过 100.0 度的水\"\"\"\u001b[39;00m\n\u001b[0;32m---> <a href='vscode-notebook-cell://wsl%2Bubuntu/home/jh-li/Quanmol/Design-Pattern-Notebook/obvserver-pattern.ipynb#W3sdnNjb2RlLXJlbW90ZQ%3D%3D?line=49'>50</a>\u001b[0m water_heater\u001b[39m.\u001b[39;49mtemperature \u001b[39m=\u001b[39m \u001b[39m114.514\u001b[39m\n",
      "\u001b[1;32m/home/jh-li/Quanmol/Design-Pattern-Notebook/obvserver-pattern.ipynb Cell 4\u001b[0m line \u001b[0;36m1\n\u001b[1;32m      <a href='vscode-notebook-cell://wsl%2Bubuntu/home/jh-li/Quanmol/Design-Pattern-Notebook/obvserver-pattern.ipynb#W3sdnNjb2RlLXJlbW90ZQ%3D%3D?line=8'>9</a>\u001b[0m \u001b[39m@temperature\u001b[39m\u001b[39m.\u001b[39msetter\n\u001b[1;32m     <a href='vscode-notebook-cell://wsl%2Bubuntu/home/jh-li/Quanmol/Design-Pattern-Notebook/obvserver-pattern.ipynb#W3sdnNjb2RlLXJlbW90ZQ%3D%3D?line=9'>10</a>\u001b[0m \u001b[39mdef\u001b[39;00m \u001b[39mtemperature\u001b[39m(\u001b[39mself\u001b[39m, value):\n\u001b[1;32m     <a href='vscode-notebook-cell://wsl%2Bubuntu/home/jh-li/Quanmol/Design-Pattern-Notebook/obvserver-pattern.ipynb#W3sdnNjb2RlLXJlbW90ZQ%3D%3D?line=10'>11</a>\u001b[0m     \u001b[39mif\u001b[39;00m value \u001b[39m>\u001b[39m \u001b[39m101.0\u001b[39m:\n\u001b[0;32m---> <a href='vscode-notebook-cell://wsl%2Bubuntu/home/jh-li/Quanmol/Design-Pattern-Notebook/obvserver-pattern.ipynb#W3sdnNjb2RlLXJlbW90ZQ%3D%3D?line=11'>12</a>\u001b[0m         \u001b[39mraise\u001b[39;00m \u001b[39mValueError\u001b[39;00m(\u001b[39mf\u001b[39m\u001b[39m\"\u001b[39m\u001b[39m常压下烧不出 \u001b[39m\u001b[39m{\u001b[39;00mvalue\u001b[39m}\u001b[39;00m\u001b[39m 度的水，请找高压锅炉\u001b[39m\u001b[39m\"\u001b[39m)\n\u001b[1;32m     <a href='vscode-notebook-cell://wsl%2Bubuntu/home/jh-li/Quanmol/Design-Pattern-Notebook/obvserver-pattern.ipynb#W3sdnNjb2RlLXJlbW90ZQ%3D%3D?line=13'>14</a>\u001b[0m     \u001b[39mself\u001b[39m\u001b[39m.\u001b[39m_temperature \u001b[39m=\u001b[39m value\n",
      "\u001b[0;31mValueError\u001b[0m: 常压下烧不出 114.514 度的水，请找高压锅炉"
     ]
    }
   ],
   "source": [
    "class WaterHeater:\n",
    "    def __init__(self) -> None:\n",
    "        self._temperature = 20.0\n",
    "\n",
    "    @property\n",
    "    def temperature(self):\n",
    "        return self._temperature\n",
    "    \n",
    "    @temperature.setter\n",
    "    def temperature(self, value):\n",
    "        if value > 101.0:\n",
    "            raise ValueError(f\"常压下烧不出 {value} 度的水，请找高压锅炉\")\n",
    "        \n",
    "        self._temperature = value\n",
    "\n",
    "\n",
    "def test_water_heater(water_heater):\n",
    "    temperature = water_heater.temperature\n",
    "    if temperature < 50.0:\n",
    "        print(f\"才 {temperature} 度，水还没烧起来\")\n",
    "    elif temperature < 100.0:\n",
    "        print(f\"{temperature} 度了，可以洗澡了\")\n",
    "    else:\n",
    "        print(f\"水开了，可以喝了\")\n",
    "\n",
    "\n",
    "\"\"\"\n",
    "1. 设置水温\n",
    "2. 检查是不是满足某些条件\n",
    "\"\"\"\n",
    "water_heater = WaterHeater()\n",
    "print(f\"初始水温：{water_heater.temperature} 度\")\n",
    "\n",
    "\"\"\"烧到 40 度\"\"\"\n",
    "water_heater.temperature = 40.0\n",
    "print(f\"当前水温：{water_heater.temperature} 度\")\n",
    "test_water_heater(water_heater)\n",
    "\n",
    "\"\"\"烧到 60 度\"\"\"\n",
    "water_heater.temperature = 60.0\n",
    "print(f\"当前水温：{water_heater.temperature} 度\")\n",
    "test_water_heater(water_heater)\n",
    "\n",
    "\"\"\"烧到 100 度\"\"\"\n",
    "water_heater.temperature = 100.0\n",
    "print(f\"当前水温：{water_heater.temperature} 度\")\n",
    "test_water_heater(water_heater)\n",
    "\n",
    "\"\"\"烧不了超过 100.0 度的水\"\"\"\n",
    "water_heater.temperature = 114.514"
   ]
  },
  {
   "cell_type": "markdown",
   "metadata": {},
   "source": [
    "## 思考？\n",
    "\n",
    "上面的案例有什么问题？\n",
    "\n",
    "\n",
    "## 用 Observer pattern 改进"
   ]
  },
  {
   "cell_type": "code",
   "execution_count": 18,
   "metadata": {},
   "outputs": [
    {
     "name": "stdout",
     "output_type": "stream",
     "text": [
      "Num of observers: 2\n",
      "初始水温：20.0 度\n",
      "当前水温：40.0 度\n",
      "60.0 度了，可以洗澡了\n",
      "当前水温：60.0 度\n",
      "100.0 度了，可以洗澡了\n",
      "当前水温：100.0 度\n"
     ]
    },
    {
     "ename": "ValueError",
     "evalue": "常压下烧不出 114.514 度的水，请找高压锅炉",
     "output_type": "error",
     "traceback": [
      "\u001b[0;31m---------------------------------------------------------------------------\u001b[0m",
      "\u001b[0;31mValueError\u001b[0m                                Traceback (most recent call last)",
      "\u001b[1;32m/home/jh-li/Quanmol/Design-Pattern-Notebook/obvserver-pattern.ipynb Cell 6\u001b[0m line \u001b[0;36m6\n\u001b[1;32m     <a href='vscode-notebook-cell://wsl%2Bubuntu/home/jh-li/Quanmol/Design-Pattern-Notebook/obvserver-pattern.ipynb#W6sdnNjb2RlLXJlbW90ZQ%3D%3D?line=57'>58</a>\u001b[0m \u001b[39mprint\u001b[39m(\u001b[39mf\u001b[39m\u001b[39m\"\u001b[39m\u001b[39m当前水温：\u001b[39m\u001b[39m{\u001b[39;00mwater_heater\u001b[39m.\u001b[39mtemperature\u001b[39m}\u001b[39;00m\u001b[39m 度\u001b[39m\u001b[39m\"\u001b[39m)\n\u001b[1;32m     <a href='vscode-notebook-cell://wsl%2Bubuntu/home/jh-li/Quanmol/Design-Pattern-Notebook/obvserver-pattern.ipynb#W6sdnNjb2RlLXJlbW90ZQ%3D%3D?line=59'>60</a>\u001b[0m \u001b[39m\"\"\"烧不了超过 100.0 度的水\"\"\"\u001b[39;00m\n\u001b[0;32m---> <a href='vscode-notebook-cell://wsl%2Bubuntu/home/jh-li/Quanmol/Design-Pattern-Notebook/obvserver-pattern.ipynb#W6sdnNjb2RlLXJlbW90ZQ%3D%3D?line=60'>61</a>\u001b[0m water_heater\u001b[39m.\u001b[39;49mtemperature \u001b[39m=\u001b[39m \u001b[39m114.514\u001b[39m\n",
      "\u001b[1;32m/home/jh-li/Quanmol/Design-Pattern-Notebook/obvserver-pattern.ipynb Cell 6\u001b[0m line \u001b[0;36m1\n\u001b[1;32m     <a href='vscode-notebook-cell://wsl%2Bubuntu/home/jh-li/Quanmol/Design-Pattern-Notebook/obvserver-pattern.ipynb#W6sdnNjb2RlLXJlbW90ZQ%3D%3D?line=9'>10</a>\u001b[0m \u001b[39m@temperature\u001b[39m\u001b[39m.\u001b[39msetter\n\u001b[1;32m     <a href='vscode-notebook-cell://wsl%2Bubuntu/home/jh-li/Quanmol/Design-Pattern-Notebook/obvserver-pattern.ipynb#W6sdnNjb2RlLXJlbW90ZQ%3D%3D?line=10'>11</a>\u001b[0m \u001b[39mdef\u001b[39;00m \u001b[39mtemperature\u001b[39m(\u001b[39mself\u001b[39m, value):\n\u001b[1;32m     <a href='vscode-notebook-cell://wsl%2Bubuntu/home/jh-li/Quanmol/Design-Pattern-Notebook/obvserver-pattern.ipynb#W6sdnNjb2RlLXJlbW90ZQ%3D%3D?line=11'>12</a>\u001b[0m     \u001b[39mif\u001b[39;00m value \u001b[39m>\u001b[39m \u001b[39m101.0\u001b[39m:\n\u001b[0;32m---> <a href='vscode-notebook-cell://wsl%2Bubuntu/home/jh-li/Quanmol/Design-Pattern-Notebook/obvserver-pattern.ipynb#W6sdnNjb2RlLXJlbW90ZQ%3D%3D?line=12'>13</a>\u001b[0m         \u001b[39mraise\u001b[39;00m \u001b[39mValueError\u001b[39;00m(\u001b[39mf\u001b[39m\u001b[39m\"\u001b[39m\u001b[39m常压下烧不出 \u001b[39m\u001b[39m{\u001b[39;00mvalue\u001b[39m}\u001b[39;00m\u001b[39m 度的水，请找高压锅炉\u001b[39m\u001b[39m\"\u001b[39m)\n\u001b[1;32m     <a href='vscode-notebook-cell://wsl%2Bubuntu/home/jh-li/Quanmol/Design-Pattern-Notebook/obvserver-pattern.ipynb#W6sdnNjb2RlLXJlbW90ZQ%3D%3D?line=14'>15</a>\u001b[0m     \u001b[39mself\u001b[39m\u001b[39m.\u001b[39m_temperature \u001b[39m=\u001b[39m value\n\u001b[1;32m     <a href='vscode-notebook-cell://wsl%2Bubuntu/home/jh-li/Quanmol/Design-Pattern-Notebook/obvserver-pattern.ipynb#W6sdnNjb2RlLXJlbW90ZQ%3D%3D?line=16'>17</a>\u001b[0m \u001b[39m    \u001b[39m\u001b[39m\"\"\"在设置温度的时候触发 Observer\"\"\"\u001b[39;00m\n",
      "\u001b[0;31mValueError\u001b[0m: 常压下烧不出 114.514 度的水，请找高压锅炉"
     ]
    }
   ],
   "source": [
    "class WaterHeater(Observable):\n",
    "    def __init__(self) -> None:\n",
    "        super().__init__()\n",
    "        self._temperature = 20.0\n",
    "\n",
    "    @property\n",
    "    def temperature(self):\n",
    "        return self._temperature\n",
    "    \n",
    "    @temperature.setter\n",
    "    def temperature(self, value):\n",
    "        if value > 101.0:\n",
    "            raise ValueError(f\"常压下烧不出 {value} 度的水，请找高压锅炉\")\n",
    "        \n",
    "        self._temperature = value\n",
    "\n",
    "        \"\"\"在设置温度的时候触发 Observer\"\"\"\n",
    "        self.notify(self.temperature)\n",
    "\n",
    "\n",
    "class ShowerObserver(Observer):\n",
    "    def update(self, water_heater, value):\n",
    "        if isinstance(water_heater, WaterHeater) and 50.0 < water_heater.temperature < 100.0:\n",
    "            print(f\"{water_heater.temperature} 度了，可以洗澡了\")\n",
    "\n",
    "\n",
    "class DrinkingObserver(Observer):\n",
    "    def update(self, water_heater, value):\n",
    "        if isinstance(water_heater, WaterHeater) and water_heater.temperature >= 100.0:\n",
    "            print(f\"{water_heater.temperature} 度了，可以洗澡了\")\n",
    "\n",
    "\n",
    "\"\"\"被观察对象\"\"\"\n",
    "water_heater = WaterHeater()\n",
    "\n",
    "\"\"\"观察者\"\"\"\n",
    "shower_observer = ShowerObserver()\n",
    "drinking_observer = DrinkingObserver()\n",
    "\n",
    "\"\"\"订阅\"\"\"\n",
    "water_heater.add_observer(shower_observer)\n",
    "water_heater.add_observer(drinking_observer)\n",
    "print(f\"Num of observers: {len(water_heater._observer_list)}\")\n",
    "\n",
    "\"\"\"开始烧水\"\"\"\n",
    "print(f\"初始水温：{water_heater.temperature} 度\")\n",
    "\n",
    "\"\"\"烧到 40 度\"\"\"\n",
    "water_heater.temperature = 40.0\n",
    "print(f\"当前水温：{water_heater.temperature} 度\")\n",
    "\n",
    "\"\"\"烧到 60 度\"\"\"\n",
    "water_heater.temperature = 60.0\n",
    "print(f\"当前水温：{water_heater.temperature} 度\")\n",
    "\n",
    "\"\"\"烧到 100 度\"\"\"\n",
    "water_heater.temperature = 100.0\n",
    "print(f\"当前水温：{water_heater.temperature} 度\")\n",
    "\n",
    "\"\"\"烧不了超过 100.0 度的水\"\"\"\n",
    "water_heater.temperature = 114.514"
   ]
  },
  {
   "cell_type": "code",
   "execution_count": 19,
   "metadata": {},
   "outputs": [
    {
     "name": "stdout",
     "output_type": "stream",
     "text": [
      "Num of observers: 0\n"
     ]
    }
   ],
   "source": [
    "\"\"\"然后可以把 observer 清理掉\"\"\"\n",
    "water_heater.remove_observer(shower_observer)\n",
    "water_heater.remove_observer(drinking_observer)\n",
    "print(f\"Num of observers: {len(water_heater._observer_list)}\")"
   ]
  },
  {
   "cell_type": "markdown",
   "metadata": {},
   "source": [
    "## 再多聊点（碎碎念）\n",
    "\n",
    "这里的 Observer Pattern 是松耦合关系，Observer 直接 subscribe Subject\n",
    "\n",
    "还有一种模式叫 发布-订阅模式（Publish-Subscribe Pattern）\n",
    "\n",
    "![img](./observer-pattern.asserts/fig.png)\n",
    "\n",
    "它们两个之间的区别在于 Observer 是怎么和 Subject 耦合在一起的。Publish-Subscribe Pattern 里会再多一层发布的 **消息** 的抽象\n",
    "\n",
    "上面的热水器也可以改成 发布-订阅模式，没事可以自己试试\n",
    "\n",
    "观察者模式也可以变成一个链条一直触发下去，但要小心别循环了\n",
    "\n",
    "销毁被观察的对象时，记得移除所有的观察者，在 发布-订阅模式 中搞不好会把已经消息发给已经被销毁掉的对象\n",
    "\n",
    "个人感觉观察者模式在前端开发这块用的会更多，前端很典型的一个链条就是\n",
    "\n",
    "```\n",
    "用户交互 -> 数据更新 -> 触发 UI 改变\n",
    "```\n",
    "\n",
    "这里 **数据** 是被观察的对象\n",
    "\n",
    "Model-View-Controller (MVC), Model-ModelView-View (MVVM) 等"
   ]
  },
  {
   "cell_type": "code",
   "execution_count": null,
   "metadata": {},
   "outputs": [],
   "source": []
  }
 ],
 "metadata": {
  "kernelspec": {
   "display_name": "chem-env",
   "language": "python",
   "name": "python3"
  },
  "language_info": {
   "codemirror_mode": {
    "name": "ipython",
    "version": 3
   },
   "file_extension": ".py",
   "mimetype": "text/x-python",
   "name": "python",
   "nbconvert_exporter": "python",
   "pygments_lexer": "ipython3",
   "version": "3.9.18"
  }
 },
 "nbformat": 4,
 "nbformat_minor": 2
}
