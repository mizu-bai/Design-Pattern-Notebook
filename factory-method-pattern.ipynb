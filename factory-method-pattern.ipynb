{
 "cells": [
  {
   "attachments": {},
   "cell_type": "markdown",
   "metadata": {},
   "source": [
    "## 来个例子回顾一下\n",
    "\n",
    "现在我们有两种 MC 生物，即两种产品，不使用工厂模式的话，每种生物的实例化方法的都要暴露出来。"
   ]
  },
  {
   "cell_type": "code",
   "execution_count": 1,
   "metadata": {},
   "outputs": [
    {
     "name": "stdout",
     "output_type": "stream",
     "text": [
      "哈↓哈？\n",
      "嗷～\n"
     ]
    }
   ],
   "source": [
    "# 不使用工厂模式\n",
    "\n",
    "\"\"\"有两种生物\"\"\"\n",
    "\n",
    "\n",
    "class Villager:\n",
    "    \"\"\"村民\"\"\"\n",
    "\n",
    "    def say(self):\n",
    "        print(\"哈↓哈？\")\n",
    "\n",
    "\n",
    "class Zombie:\n",
    "    \"\"\"僵尸\"\"\"\n",
    "    \n",
    "    def say(self):\n",
    "        print(\"嗷～\")\n",
    "    \n",
    "\n",
    "villager = Villager()\n",
    "villager.say()\n",
    "\n",
    "zombie = Zombie()\n",
    "zombie.say()"
   ]
  },
  {
   "attachments": {},
   "cell_type": "markdown",
   "metadata": {},
   "source": [
    "## 简单工厂模式\n",
    "\n",
    "现在回顾一下简单工厂模式，把不同的类的实例化统一到一个工厂里，不对外暴露创建接口。"
   ]
  },
  {
   "cell_type": "code",
   "execution_count": 2,
   "metadata": {},
   "outputs": [],
   "source": [
    "class SimpleMobEgg:\n",
    "    \"\"\"简单生物蛋\"\"\"\n",
    "\n",
    "\n",
    "    \"\"\"if else 当然可以 work\"\"\"\n",
    "    # def hatch(self, mob_name):\n",
    "    #     if mob_name == \"villager\":\n",
    "    #         return Villager()\n",
    "    #     elif mob_name == \"zombie\":\n",
    "    #         return Zombie()\n",
    "        \n",
    "    \"\"\"也可以用 dictionary\"\"\"\n",
    "    _mob_dict = {\n",
    "        \"villager\": Villager,\n",
    "        \"zombie\": Zombie,\n",
    "    }\n",
    "\n",
    "    def hatch(self, mob_name):\n",
    "        return self._mob_dict[mob_name]()\n",
    "        "
   ]
  },
  {
   "cell_type": "code",
   "execution_count": 3,
   "metadata": {},
   "outputs": [
    {
     "name": "stdout",
     "output_type": "stream",
     "text": [
      "哈↓哈？\n",
      "嗷～\n"
     ]
    }
   ],
   "source": [
    "# 这个工厂可以生成多种产品 -> 统一实例化接口\n",
    "simple_mob_egg = SimpleMobEgg()\n",
    "\n",
    "# 这里才确定是哪种生物\n",
    "villager = simple_mob_egg.hatch(mob_name=\"villager\")\n",
    "villager.say()\n",
    "\n",
    "# 同上\n",
    "zombie = simple_mob_egg.hatch(mob_name=\"zombie\")\n",
    "zombie.say()"
   ]
  },
  {
   "attachments": {},
   "cell_type": "markdown",
   "metadata": {},
   "source": [
    "有什么问题呢？\n",
    "\n",
    "这里只支持两种生物，要么 if else\n",
    "\n",
    "```python\n",
    "    def hatch(self, mob_name):\n",
    "        if mob_name == \"villager\":\n",
    "            return Villager()\n",
    "        elif mob_name == \"zombie\":\n",
    "            return Zombie()\n",
    "```\n",
    "\n",
    "要么字典\n",
    "\n",
    "```python\n",
    "    _mob_dict = {\n",
    "        \"villager\": Villager,\n",
    "        \"zombie\": Zombie,\n",
    "    }\n",
    "\n",
    "    def hatch(self, mob_name):\n",
    "        return self._mob_dict[mob_name]()\n",
    "```\n",
    "\n",
    "都写死了（悲）\n",
    "\n",
    "适用场景：已经确定有多少具体的类，不会再多加别的。要加的话就得改 `SimpleMobEgg` 类了，违背了 **开闭原则**"
   ]
  },
  {
   "attachments": {},
   "cell_type": "markdown",
   "metadata": {},
   "source": [
    "## 开闭原则\n",
    "\n",
    "> 在面向对象编程领域中，开闭原则 (The Open/Closed Principle, OCP) 规定“软件中的对象（类，模块，函数等等）应该对于扩展是开放的，但是对于修改是封闭的”，这意味着一个实体是允许在不改变它的源代码的前提下变更它的行为。\n",
    "\n",
    "让系统易于扩展，同时限制其每次被修改所影响的范围。\n",
    "\n",
    "## 工厂方法模式（Factory method pattern）\n",
    "\n",
    "- 处理不指定对象具体类型的情况下创建对象的问题\n",
    "- 定义一个创建对象的接口，但让实现这个接口的类来决定实例化哪个类\n",
    "- 类的实例化推迟到子类中进行"
   ]
  },
  {
   "cell_type": "code",
   "execution_count": 4,
   "metadata": {},
   "outputs": [
    {
     "name": "stdout",
     "output_type": "stream",
     "text": [
      "哈↓哈？\n",
      "嗷～\n"
     ]
    }
   ],
   "source": [
    "from abc import ABC, abstractmethod\n",
    "\n",
    "# 这是真正用于实例化的类，但我们不想暴露\n",
    "class Villager:\n",
    "    \"\"\"村民\"\"\"\n",
    "\n",
    "    def say(self):\n",
    "        print(\"哈↓哈？\")\n",
    "\n",
    "\n",
    "class Zombie:\n",
    "    \"\"\"僵尸\"\"\"\n",
    "    \n",
    "    def say(self):\n",
    "        print(\"嗷～\")\n",
    "\n",
    "\n",
    "# 抽象工厂：先定义抽象类，然后每种类型的产品都有对应的工厂\n",
    "class AbstractMobEgg(ABC):\n",
    "    \"\"\"抽象工厂\"\"\"\n",
    "\n",
    "    @abstractmethod\n",
    "    def hatch(self):\n",
    "        \"\"\"这里只定义了需要实现的方法，没有实现（接口）\"\"\"\n",
    "        pass\n",
    "\n",
    "\n",
    "# 对每种产品的工厂\n",
    "class VillagerEgg(AbstractMobEgg):\n",
    "    \"\"\"村民蛋\"\"\"\n",
    "\n",
    "    def hatch(self):\n",
    "        return Villager()\n",
    "    \n",
    "class ZombieEgg(AbstractMobEgg):\n",
    "    \"\"\"僵尸蛋\"\"\"\n",
    "\n",
    "    def hatch(self):\n",
    "        return Zombie()\n",
    "\n",
    "\n",
    "# 使用\n",
    "villager_egg = VillagerEgg()    # 实例化村民蛋，这个对象可以孵化出村民\n",
    "villager = villager_egg.hatch() # 用村民蛋实例化村民\n",
    "villager.say()\n",
    "\n",
    "zombie_egg = ZombieEgg()\n",
    "zombie = zombie_egg.hatch()\n",
    "zombie.say()"
   ]
  },
  {
   "attachments": {},
   "cell_type": "markdown",
   "metadata": {},
   "source": [
    "如果我们还要再添加新的生物呢？\n",
    "\n",
    "只要实现 **具体用于实例化的类** 和 **对应于该生物的工厂**\n",
    "\n",
    "比如我们要添加苦力怕（Creeper）"
   ]
  },
  {
   "cell_type": "code",
   "execution_count": 5,
   "metadata": {},
   "outputs": [
    {
     "name": "stdout",
     "output_type": "stream",
     "text": [
      "嗞……崩！\n"
     ]
    }
   ],
   "source": [
    "class Creeper():\n",
    "    \"\"\"苦力怕\"\"\"\n",
    "\n",
    "    def say(self):\n",
    "        print(\"嗞……崩！\")\n",
    "\n",
    "class CreeperEgg(AbstractMobEgg):\n",
    "    \"\"\"苦力怕蛋\"\"\"\n",
    "\n",
    "    def hatch(self):\n",
    "        return Creeper()\n",
    "    \n",
    "\n",
    "creeper_egg = CreeperEgg() \n",
    "creeper = creeper_egg.hatch()\n",
    "creeper.say()"
   ]
  },
  {
   "attachments": {},
   "cell_type": "markdown",
   "metadata": {},
   "source": [
    "## 小节\n",
    "\n",
    "每个工厂只负责生产自己的产品，即每种生物蛋只孵化对应的生物，避免了新添加生物的时候还要修改已经写好的 `SimpleMobEgg` 类。新增加生物只要实现对应的 `Mob` 类和 `MobEgg` 类就行。"
   ]
  }
 ],
 "metadata": {
  "kernelspec": {
   "display_name": "chem-env",
   "language": "python",
   "name": "python3"
  },
  "language_info": {
   "codemirror_mode": {
    "name": "ipython",
    "version": 3
   },
   "file_extension": ".py",
   "mimetype": "text/x-python",
   "name": "python",
   "nbconvert_exporter": "python",
   "pygments_lexer": "ipython3",
   "version": "3.9.16"
  },
  "orig_nbformat": 4
 },
 "nbformat": 4,
 "nbformat_minor": 2
}
