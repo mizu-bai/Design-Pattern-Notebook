{
 "cells": [
  {
   "cell_type": "markdown",
   "metadata": {},
   "source": [
    "# Composition over Inheritance\n",
    "\n",
    "为什么我们要用继承？\n",
    "\n",
    "##  Cases and Problems\n",
    "\n",
    "### 代码共享\n",
    "\n",
    "1. 子类爆炸\n",
    "\n",
    "如果想定制一个类的多于一个行为方面，通过继承共享代码是行不通的。它会导致子类爆炸。\n",
    "\n",
    "2. 类和实例命名空间的混淆\n",
    "\n",
    "子类的里的 `self.x` 到底来自哪里。**多层继承**，**多继承** 都会显著恶化这一问题。\n",
    "\n",
    "更糟糕的情况，无法控制基类里暴露给用户的属性与方法。\n",
    "\n",
    "3. 从属关系不明\n",
    "\n",
    "问题 2 的后果之一"
   ]
  },
  {
   "cell_type": "markdown",
   "metadata": {},
   "source": [
    "### 接口，抽象类\n",
    "\n",
    "> 抽象数据类型（ADT）主要是为了收紧接口协议。你可以说你想要一个具有某些属性、方法的对象，而不关心其他的。在许多语言中，它们被称为接口，听起来没有那么高大上，所以我从现在开始将使用这个术语。\n",
    "\n",
    "这个是我们经常使用的，同时也是副作用最小的\n",
    "\n",
    "比如 Navigator 里定义了 `Optimizer` 的职能是什么，接下来所有的 `Optimizer` 都需要实现这一方法"
   ]
  },
  {
   "cell_type": "code",
   "execution_count": 1,
   "metadata": {},
   "outputs": [],
   "source": [
    "from abc import ABC, abstractmethod\n",
    "from typing import *\n",
    "\n",
    "class BindingPose():\n",
    "    pass\n",
    "\n",
    "\n",
    "class PoseOptimizer(ABC):\n",
    "    \"\"\"Abstract class for generic binding pose optimizer.\"\"\"\n",
    "\n",
    "    @abstractmethod\n",
    "    def optimize(\n",
    "        self,\n",
    "        binding_poses: Union[BindingPose, List[BindingPose]],  # TODO: support BindingPoseList\n",
    "    ) -> List[BindingPose]:  # TODO: support BindingPoseList\n",
    "        \"\"\"Runs pose optimizer for a (list of) binding pose(s).\n",
    "\n",
    "        Args:\n",
    "            binding_poses: Binding pose(s) to be optimized.\n",
    "\n",
    "        Returns:\n",
    "            A list of `BindingPose` objects containing generated poses.\n",
    "        \"\"\""
   ]
  },
  {
   "cell_type": "markdown",
   "metadata": {},
   "source": [
    "再拓展一下，除了使用 abstract class，还有以下方法\n",
    "\n",
    "1. 名义子类型\n",
    "\n",
    "名义子类型意思是你必须告诉类型系统，你的类是一个接口定义的子类型。ABC 通常通过继承来实现这一点，但你也可以使用 register() 方法。"
   ]
  },
  {
   "cell_type": "code",
   "execution_count": 2,
   "metadata": {},
   "outputs": [
    {
     "ename": "AssertionError",
     "evalue": "",
     "output_type": "error",
     "traceback": [
      "\u001b[0;31m---------------------------------------------------------------------------\u001b[0m",
      "\u001b[0;31mAssertionError\u001b[0m                            Traceback (most recent call last)",
      "\u001b[1;32m/Users/mizu-bai/QuanMol/Design-Pattern-Notebook/composition-over-inheritance.ipynb Cell 5\u001b[0m line \u001b[0;36m7\n\u001b[1;32m      <a href='vscode-notebook-cell:/Users/mizu-bai/QuanMol/Design-Pattern-Notebook/composition-over-inheritance.ipynb#X14sZmlsZQ%3D%3D?line=3'>4</a>\u001b[0m     \u001b[39mdef\u001b[39;00m \u001b[39moptimize\u001b[39m(\u001b[39mself\u001b[39m, binding_poses):\n\u001b[1;32m      <a href='vscode-notebook-cell:/Users/mizu-bai/QuanMol/Design-Pattern-Notebook/composition-over-inheritance.ipynb#X14sZmlsZQ%3D%3D?line=4'>5</a>\u001b[0m         \u001b[39mpass\u001b[39;00m\n\u001b[0;32m----> <a href='vscode-notebook-cell:/Users/mizu-bai/QuanMol/Design-Pattern-Notebook/composition-over-inheritance.ipynb#X14sZmlsZQ%3D%3D?line=6'>7</a>\u001b[0m \u001b[39massert\u001b[39;00m \u001b[39misinstance\u001b[39m(FooOptimizer(), PoseOptimizer)\n",
      "\u001b[0;31mAssertionError\u001b[0m: "
     ]
    }
   ],
   "source": [
    "# Register\n",
    "\n",
    "class FooOptimizer():\n",
    "    def optimize(self, binding_poses):\n",
    "        pass\n",
    "\n",
    "assert isinstance(FooOptimizer(), PoseOptimizer)"
   ]
  },
  {
   "cell_type": "code",
   "execution_count": 3,
   "metadata": {},
   "outputs": [],
   "source": [
    "PoseOptimizer.register(FooOptimizer)\n",
    "\n",
    "assert isinstance(FooOptimizer(), PoseOptimizer)"
   ]
  },
  {
   "cell_type": "markdown",
   "metadata": {},
   "source": [
    "2. 结构子类型\n",
    "\n",
    "结构子类型也就是鸭子类型：如果你的类满足了一个协议的约束，它就会自动被认为是它的一个子类型。因此，一个类可以从各种包中实现许多协议而无需它们的存在！"
   ]
  },
  {
   "cell_type": "code",
   "execution_count": 4,
   "metadata": {},
   "outputs": [],
   "source": [
    "from abc import ABC, abstractmethod\n",
    "from typing import Union, List, Protocol, runtime_checkable\n",
    "\n",
    "class BindingPose():\n",
    "    pass\n",
    "\n",
    "\n",
    "@runtime_checkable\n",
    "class PoseOptimizer(Protocol):\n",
    "    \"\"\"Abstract class for generic binding pose optimizer.\"\"\"\n",
    "\n",
    "    def optimize(\n",
    "        self,\n",
    "        binding_poses: Union[BindingPose, List[BindingPose]],  # TODO: support BindingPoseList\n",
    "    ) -> List[BindingPose]:  # TODO: support BindingPoseList\n",
    "        \"\"\"Runs pose optimizer for a (list of) binding pose(s).\n",
    "\n",
    "        Args:\n",
    "            binding_poses: Binding pose(s) to be optimized.\n",
    "\n",
    "        Returns:\n",
    "            A list of `BindingPose` objects containing generated poses.\n",
    "        \"\"\"\n",
    "\n",
    "class BarOptimizer:\n",
    "    def optimize(self, binding_poses):\n",
    "        pass\n",
    "\n",
    "assert isinstance(BarOptimizer(), PoseOptimizer)"
   ]
  },
  {
   "cell_type": "markdown",
   "metadata": {},
   "source": [
    "可以思考一下，在这类情况下，继承的 **必要性** 在哪里？"
   ]
  },
  {
   "cell_type": "markdown",
   "metadata": {},
   "source": [
    "### 特化\n",
    "\n",
    "> 如果我们说一个类 B 特化了基类 A，其实就是说类 B 是具有额外属性的 A。一只狗是一种动物，A350 是一架客机。它们拥有基类的所有属性，并增加了属性、方法，或者只是在一个层次结构中增加了一个位置。\n",
    "\n",
    "> 尽管这种简单很诱人，但它经常被错误地使用。最臭名昭著的错误是认为正方形是长方形的特化，因为从几何学上讲，它是一个特例。然而，正方形并不是拥有额外行为属性的长方形。\n",
    "\n",
    "> 你不能在所有可以使用长方形的地方使用正方形，除非代码知道它也接受一个正方形8。如果你不能把一个对象当作其基类的实例来交互，你就违反了里氏替换原则9，你就不能写多态的代码。\n",
    "\n",
    "（自己想的）长方形和正方形应该是平级的关系，对长方形干的操作对正方形也是可以的，实际上并没有从一个抽象的层级上去特化一个新的。\n",
    "\n",
    "> 如果你仔细观察，你会发现上一节的接口是特化的一个特例。你总是把一个通用的 API 协议特化为一些具体的东西。关键的区别在于，抽象的数据类型是......嗯......抽象的。\n",
    "\n",
    "案例\n",
    "\n",
    "例如，设想你想把电子邮箱账户表示为类。它们都共享一些数据，比如它们在数据库中的 ID 和邮箱地址，此外，根据账户的类型，它们（可以）有额外的属性。重要的是，这些增加的属性和方法几乎没有改变现有的属性和方法。例如，一个在服务器上存储电子邮件的邮箱需要哈希过的密码作为登录信息，而一个接收电子邮件并只将其转发到另一个邮箱地址的账户则不需要10。"
   ]
  },
  {
   "cell_type": "code",
   "execution_count": 5,
   "metadata": {},
   "outputs": [],
   "source": [
    "\"\"\"1. 为每种情况专门创建一个类\"\"\"\n",
    "\n",
    "from uuid import UUID\n",
    "\n",
    "class Mailbox:\n",
    "    id: UUID\n",
    "    addr: str\n",
    "    pwd: str\n",
    "\n",
    "class Forwarder:\n",
    "    id: UUID\n",
    "    addr: str\n",
    "    targets: List[str]"
   ]
  },
  {
   "cell_type": "code",
   "execution_count": 6,
   "metadata": {},
   "outputs": [],
   "source": [
    "\"\"\"2. 只创建一个类，把字段变成可选的\n",
    "问题是非法状态必须不能表示，最终导致大量的 if-elif-else\"\"\"\n",
    "\n",
    "import enum\n",
    "\n",
    "class AddrType(enum.Enum):\n",
    "    MAILBOX = \"mailbox\"\n",
    "    FORWARDER = \"forwarder\"\n",
    "\n",
    "class EmailAddr:\n",
    "    type: AddrType\n",
    "    id: UUID\n",
    "    addr: str\n",
    "\n",
    "    # Only useful if type == AddrType.MAILBOX\n",
    "    pwd: Union[str, None]\n",
    "    # Only useful if type == AddrType.FORWARDER\n",
    "    target: Union[List[str], None]"
   ]
  },
  {
   "cell_type": "code",
   "execution_count": 7,
   "metadata": {},
   "outputs": [],
   "source": [
    "\"\"\"3. 组合\"\"\"\n",
    "\n",
    "class EmailAddr:\n",
    "    id: UUID\n",
    "    addr: str\n",
    "\n",
    "class Mailbox:\n",
    "    email: EmailAddr\n",
    "    pwd: str\n",
    "\n",
    "class Forwarder:\n",
    "    email: EmailAddr\n",
    "    targets: List[str]"
   ]
  },
  {
   "cell_type": "code",
   "execution_count": 8,
   "metadata": {},
   "outputs": [],
   "source": [
    "\"\"\"4. 创建一个基类，然后特化它\n",
    "子类的职责得到了限定，边界更清晰\"\"\"\n",
    "\n",
    "class EmailAddr:\n",
    "    id: UUID\n",
    "    addr: str\n",
    "\n",
    "class Mailbox(EmailAddr):\n",
    "    pwd: str\n",
    "\n",
    "class Forwarder(EmailAddr):\n",
    "    targets: List[str]\n"
   ]
  },
  {
   "cell_type": "markdown",
   "metadata": {},
   "source": [
    "## 组合模式\n",
    "\n",
    "组合模式（Composite Pattern），又叫部分整体模式，是用于把一组相似的对象当作一个单一的对象。组合模式依据树形结构来组合对象，用来表示部分以及整体层次。这种类型的设计模式属于结构型模式，它创建了对象组的树形结构。\n",
    "\n",
    "这种模式创建了一个包含自己对象组的类。该类提供了修改相同对象组的方式。\n",
    "\n",
    "## 所以我们为什么需要引入组合\n",
    "\n",
    "> 更多的时候，你需要的只是一个函数而已。\n",
    "\n",
    "一个 case\n",
    "\n",
    "我们的目标是实现仓库模式：一个允许你向数据仓库中添加和检索对象的类。此外，它还必须记住所有添加或检索的对象，并将其放在一个叫做 `seen` 的字段上"
   ]
  },
  {
   "cell_type": "code",
   "execution_count": 17,
   "metadata": {},
   "outputs": [],
   "source": [
    "class Product:\n",
    "    def __init__(self, sku) -> None:\n",
    "        self.sku = sku\n",
    "\n",
    "\n",
    "class AbstractRepository(ABC):\n",
    "    seen: Set[Product]\n",
    "\n",
    "    def __init__(self) -> None:\n",
    "        self.seen = set()\n",
    "\n",
    "    def add_product(self, product: Product) -> None:\n",
    "        self._add_product(product)\n",
    "        self.seen.add(product)\n",
    "\n",
    "    def get_by_sku(self, sku: str) -> Optional[Product]:\n",
    "        product = self._get_by_sku(sku)\n",
    "        if product:\n",
    "            self.seen.add(product)\n",
    "\n",
    "        return product\n",
    "\n",
    "    @abstractmethod\n",
    "    def _add_product(self, product: Product):\n",
    "        raise NotImplementedError\n",
    "\n",
    "    @abstractmethod\n",
    "    def _get_by_sku(self, sku: str) -> Optional[Product]:\n",
    "        raise NotImplementedError"
   ]
  },
  {
   "cell_type": "markdown",
   "metadata": {},
   "source": [
    "因此，每个子类都必须定义 _add_product() 和 _get_by_sku() 方法。然后用户调用 AbstractRepository 的add_product() 和 get_by_sku() 方法，这些方法又委托给子类的 _add_product() 和 _get_by_sku() ，同时记住它看到过哪些 Product 类型的对象。\n",
    "\n",
    "**它将接口的定义与子类的共享代码混在一起。**\n",
    "\n",
    "**更实际的问题是，如果你想理解代码的工作流，由于去向和来源在类层级中来回横跳，这会很困难。**\n",
    "\n",
    "如何修改"
   ]
  },
  {
   "cell_type": "code",
   "execution_count": 18,
   "metadata": {},
   "outputs": [],
   "source": [
    "class Repository(Protocol):\n",
    "    def add_product(self, product: Product) -> None: ...\n",
    "    def get_by_sku(self, sku: str) -> Optional[Product]: ..."
   ]
  },
  {
   "cell_type": "code",
   "execution_count": 19,
   "metadata": {},
   "outputs": [],
   "source": [
    "class DictRepository:\n",
    "    _storage: Dict[str, Product]\n",
    "\n",
    "    def __init__(self):\n",
    "        self._storage = {}\n",
    "\n",
    "    def add_product(self, product: Product) -> None:\n",
    "        self._storage[product.sku] = product\n",
    "\n",
    "    def get_by_sku(self, sku: str) -> Optional[Product]:\n",
    "        return self._storage.get(sku)"
   ]
  },
  {
   "cell_type": "code",
   "execution_count": 21,
   "metadata": {},
   "outputs": [],
   "source": [
    "class TrackingRepository:\n",
    "    _repo: Repository\n",
    "    seen: Set[Product]\n",
    "\n",
    "    def __init__(self, repo: Repository) -> None:\n",
    "        self._repo = repo\n",
    "        self.seen = set()\n",
    "\n",
    "    def add_product(self, product: Product) -> None:\n",
    "        self._repo.add_product(product)\n",
    "        self.seen.add(product)\n",
    "\n",
    "    def get_by_sku(self, sku: str) -> Optional[Product]:\n",
    "        product = self._repo.get_by_sku(sku)\n",
    "        if product:\n",
    "            self.seen.add(product)\n",
    "\n",
    "        return product"
   ]
  },
  {
   "cell_type": "markdown",
   "metadata": {},
   "source": [
    "这个类由两个东西组合而成：一个只知道是实现了 Repository 的对象，和一些 Products。如果你在 `_repo` 属性上使用其他未被 Repository 接口承诺的东西，无需执行代码，类型检查器就会对你报警。\n",
    "\n",
    "另一方面，我们最终得到了两个独立的小类，它们之间唯一的协定是一个严格的、明确的接口。这不仅易于阅读和理解，而且也易于测试。"
   ]
  },
  {
   "cell_type": "code",
   "execution_count": null,
   "metadata": {},
   "outputs": [],
   "source": []
  }
 ],
 "metadata": {
  "kernelspec": {
   "display_name": "chem-env",
   "language": "python",
   "name": "python3"
  },
  "language_info": {
   "codemirror_mode": {
    "name": "ipython",
    "version": 3
   },
   "file_extension": ".py",
   "mimetype": "text/x-python",
   "name": "python",
   "nbconvert_exporter": "python",
   "pygments_lexer": "ipython3",
   "version": "3.8.0"
  },
  "orig_nbformat": 4
 },
 "nbformat": 4,
 "nbformat_minor": 2
}
