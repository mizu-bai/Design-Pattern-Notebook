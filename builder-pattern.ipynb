{
 "cells": [
  {
   "cell_type": "markdown",
   "metadata": {},
   "source": [
    "# 例子\n",
    "\n",
    "造房子，有建造者和指挥者，建造者执行具体任务，指挥者知道每个步骤都干什么。"
   ]
  },
  {
   "cell_type": "code",
   "execution_count": 1,
   "metadata": {},
   "outputs": [],
   "source": [
    "class Builder:\n",
    "    \n",
    "    def get_material(self):\n",
    "        print(\"搬运材料中...\")\n",
    "        return self\n",
    "    \n",
    "    def build(self):\n",
    "        print(\"建造中...\")\n",
    "        return self\n",
    "    \n",
    "    def complete(self):\n",
    "        print(\"交付...\")\n",
    "        return \"房子\""
   ]
  },
  {
   "cell_type": "code",
   "execution_count": 2,
   "metadata": {},
   "outputs": [
    {
     "name": "stdout",
     "output_type": "stream",
     "text": [
      "搬运材料中...\n",
      "建造中...\n",
      "交付...\n"
     ]
    },
    {
     "data": {
      "text/plain": [
       "'房子'"
      ]
     },
     "execution_count": 2,
     "metadata": {},
     "output_type": "execute_result"
    }
   ],
   "source": [
    "# 直接指挥 Builder 去干活\n",
    "\n",
    "Builder().get_material().build().complete()"
   ]
  },
  {
   "cell_type": "code",
   "execution_count": 3,
   "metadata": {},
   "outputs": [],
   "source": [
    "class Director:\n",
    "    \n",
    "    def __init__(\n",
    "        self,\n",
    "        builder,\n",
    "    ) -> None:\n",
    "        self.builder = builder\n",
    "\n",
    "    def direct(self):\n",
    "        building = self.builder.get_material().build().complete()\n",
    "        print(f\"{building} 已经建造完成\")\n",
    "        return building"
   ]
  },
  {
   "cell_type": "code",
   "execution_count": 4,
   "metadata": {},
   "outputs": [
    {
     "name": "stdout",
     "output_type": "stream",
     "text": [
      "搬运材料中...\n",
      "建造中...\n",
      "交付...\n",
      "房子 已经建造完成\n"
     ]
    },
    {
     "data": {
      "text/plain": [
       "'房子'"
      ]
     },
     "execution_count": 4,
     "metadata": {},
     "output_type": "execute_result"
    }
   ],
   "source": [
    "# 另外找一个已经知道怎么指挥人干活的人指挥人来干活\n",
    "builder = Builder()\n",
    "director = Director(builder)\n",
    "building = director.direct()\n",
    "building"
   ]
  },
  {
   "cell_type": "markdown",
   "metadata": {},
   "source": [
    "## 另一个例子：装机"
   ]
  },
  {
   "cell_type": "code",
   "execution_count": 5,
   "metadata": {},
   "outputs": [],
   "source": [
    "class PC:\n",
    "\n",
    "    def __init__(\n",
    "        self\n",
    "    ) -> None:\n",
    "        self.cpu = None\n",
    "        self.mem = None\n",
    "        self.gpu = None\n",
    "        self.storage = None\n",
    "\n",
    "    # def __str__(self) -> str:\n",
    "    def 看看鲁大师(self) -> str:\n",
    "        return f\"CPU: {self.cpu} Mem: {self.mem} GPU: {self.gpu} Storage: {self.storage}\""
   ]
  },
  {
   "cell_type": "code",
   "execution_count": 6,
   "metadata": {},
   "outputs": [],
   "source": [
    "class PCBuilder:\n",
    "\n",
    "    def __init__(self) -> None:\n",
    "        self.pc = PC()\n",
    "        \n",
    "    def add_cpu(self, cpu) -> None:\n",
    "        self.pc.cpu = cpu\n",
    "\n",
    "    def add_mem(self, mem) -> None:\n",
    "        self.pc.mem = mem\n",
    "\n",
    "    def add_gpu(self, gpu) -> None:\n",
    "        self.pc.gpu = gpu\n",
    "\n",
    "    def add_storage(self, storage) -> None:\n",
    "        self.pc.storage = storage\n",
    "\n",
    "    def get_pc(self) -> PC:\n",
    "        return self.pc"
   ]
  },
  {
   "cell_type": "code",
   "execution_count": 7,
   "metadata": {},
   "outputs": [],
   "source": [
    "class 装机员:\n",
    "\n",
    "    def __init__(\n",
    "        self,\n",
    "        builder,\n",
    "    ) -> None:\n",
    "        self.builder = builder\n",
    "\n",
    "    def 装机(self, cpu, mem, gpu, storage) -> PC:\n",
    "        self.builder.add_cpu(cpu)\n",
    "        self.builder.add_mem(mem)\n",
    "        self.builder.add_gpu(gpu)\n",
    "        self.builder.add_storage(storage)\n",
    "        pc = self.builder.get_pc()\n",
    "        return pc"
   ]
  },
  {
   "cell_type": "code",
   "execution_count": 8,
   "metadata": {},
   "outputs": [
    {
     "data": {
      "text/plain": [
       "'CPU: i9-13900K Mem: 64GB GPU: RTX4090 Storage: 1T'"
      ]
     },
     "execution_count": 8,
     "metadata": {},
     "output_type": "execute_result"
    }
   ],
   "source": [
    "new_pc = 装机员(PCBuilder()).装机(cpu=\"i9-13900K\", mem=\"64GB\", gpu=\"RTX4090\", storage=\"1T\")\n",
    "new_pc.看看鲁大师()"
   ]
  },
  {
   "cell_type": "markdown",
   "metadata": {},
   "source": [
    "## 思考\n",
    "\n",
    "- 这个和上面的有什么不同？\n",
    "- Navigator 的开发与使用过程中可以在哪些地方用到？"
   ]
  },
  {
   "cell_type": "markdown",
   "metadata": {},
   "source": [
    "- 复杂 `generator` 与 `optimizer` 的内部，涉及多个模块，按需构建出不同功能的 module\n",
    "- dataflow, `generator` → `optimizer` → `scoring`\n",
    "- 对于一些比较固定 or 给出推荐可选搭配的 workflow，作为上层封装使用"
   ]
  },
  {
   "cell_type": "markdown",
   "metadata": {},
   "source": [
    "## 和工厂模式的区别\n",
    "\n",
    "和工厂模式不一样，工厂模式是直接返回一个产品（或工厂），输入输出，相当直接，建造者模式就要辛苦一点，需要 **指挥者** 指挥 **建造者** 工作之后，才能获得产品，所以建造者模式需要 **指挥者** 和 **建造者** 两个角色。"
   ]
  },
  {
   "cell_type": "markdown",
   "metadata": {},
   "source": [
    "## 适用场景（相对于工厂模式）\n",
    "\n",
    "- 想要创建一个复杂对象（对象由多个部分构成，且对象的创建要经过多个不同的步骤，这些步骤也许还需遵从特定的顺序）\n",
    "- 要求一个对象能有不同的表现，并希望将对象的构造与表现解耦\n",
    "- 想要在某个时间点创建对象，但在稍后的时间点再访问"
   ]
  },
  {
   "cell_type": "markdown",
   "metadata": {},
   "source": [
    "# 其他的一些 Tips\n",
    "\n",
    "第一个例子里有这样的调用方式\n",
    "\n",
    "```python3\n",
    "Builder().get_material().build().complete()\n",
    "```\n",
    "\n",
    "为什么可以这样做呢？因为 `Builder()`，`get_material()` 和 `build()` 都返回了 `Builder` 对象，后面的一些方法都是 `Builder` 这个 class 定义好的，所以这个对象可以依次 `.func()` 过去。\n",
    "\n",
    "这个东西叫 **方法链式调用 (Method chaining)**\n",
    "\n",
    "是面向对象编程语言中多个方法被调用时的常用语法。每个方法都返回一个对象，允许在单个语句中将调用链接在一起，而无需变量来存储中间结果。\n",
    "\n",
    "对比第二个例子中的 `PCBuilder` 类，内部在用 `self.pc` 存储 `PC` 对象\n",
    "\n",
    "一方面链式调用确实写起来优雅一些，但对于 debug 其实是更困难的，同时 Python 写链式调用其实有点别扭，在这个例子中能随便 `.fun()` 过去是因为这些 `.fun()` 都是绑定在对象上的。\n",
    "\n",
    "Python 还有一些高阶函数，如 `map`, `filter`, `reduce`，但个人感觉用起来很别扭。"
   ]
  },
  {
   "cell_type": "code",
   "execution_count": 9,
   "metadata": {},
   "outputs": [
    {
     "data": {
      "text/plain": [
       "[16, 25]"
      ]
     },
     "execution_count": 9,
     "metadata": {},
     "output_type": "execute_result"
    }
   ],
   "source": [
    "arr = [1, 2, 3, 4, 5]\n",
    "res = map(lambda x: x**2, arr)\n",
    "res = filter(lambda x: x > 10, res)\n",
    "res = list(res) # 迭代器 -> 列表\n",
    "res"
   ]
  },
  {
   "cell_type": "markdown",
   "metadata": {},
   "source": [
    "或者你也不想写出这样的代码被人追杀吧"
   ]
  },
  {
   "cell_type": "code",
   "execution_count": 10,
   "metadata": {},
   "outputs": [
    {
     "data": {
      "text/plain": [
       "[16, 25]"
      ]
     },
     "execution_count": 10,
     "metadata": {},
     "output_type": "execute_result"
    }
   ],
   "source": [
    "arr = [1, 2, 3, 4, 5]\n",
    "res = list(filter(lambda x: x > 10, map(lambda x: x**2, arr)))\n",
    "res"
   ]
  },
  {
   "cell_type": "markdown",
   "metadata": {},
   "source": [
    "如果对函数式语言或者比较函的语言（比如 Julia），可以写成这样\n",
    "\n",
    "```julia\n",
    "julia> [1, 2, 3, 4, 5] |> x -> x.^2 |> filter(x -> x > 10)\n",
    "3-element Vector{Int64}:\n",
    "  9\n",
    " 16\n",
    " 25\n",
    "```\n",
    "\n",
    "其中 `x |> f` 的调用方式等价于 `f(x)`，而在这里 `x -> x.^2` 是个匿名 Lambda 函数\n",
    "\n",
    "当然这种已经是语言设计级别上的语法糖了（逃）"
   ]
  },
  {
   "cell_type": "code",
   "execution_count": null,
   "metadata": {},
   "outputs": [],
   "source": []
  }
 ],
 "metadata": {
  "kernelspec": {
   "display_name": "chem-env",
   "language": "python",
   "name": "python3"
  },
  "language_info": {
   "codemirror_mode": {
    "name": "ipython",
    "version": 3
   },
   "file_extension": ".py",
   "mimetype": "text/x-python",
   "name": "python",
   "nbconvert_exporter": "python",
   "pygments_lexer": "ipython3",
   "version": "3.8.16"
  },
  "orig_nbformat": 4
 },
 "nbformat": 4,
 "nbformat_minor": 2
}
